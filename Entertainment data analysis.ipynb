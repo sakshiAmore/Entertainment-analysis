{
 "cells": [
  {
   "cell_type": "code",
   "execution_count": 1,
   "id": "4821d308",
   "metadata": {},
   "outputs": [
    {
     "data": {
      "text/plain": [
       "'%.2f'"
      ]
     },
     "execution_count": 1,
     "metadata": {},
     "output_type": "execute_result"
    }
   ],
   "source": [
    "import pandas as pd\n",
    "import numpy as np\n",
    "import seaborn as sns\n",
    "import matplotlib.pyplot as plt \n",
    "import warnings\n",
    "%matplotlib inline\n",
    "warnings.filterwarnings('ignore')\n",
    "%precision 2"
   ]
  },
  {
   "cell_type": "markdown",
   "id": "a4d067e4",
   "metadata": {},
   "source": [
    "### First Data "
   ]
  },
  {
   "cell_type": "code",
   "execution_count": 2,
   "id": "901a42f3",
   "metadata": {},
   "outputs": [
    {
     "name": "stdout",
     "output_type": "stream",
     "text": [
      "        Entertainer Gender (traditional)  Birth Year\n",
      "0             Adele                    F        1988\n",
      "1    Angelina Jolie                    F        1975\n",
      "2   Aretha Franklin                    F        1942\n",
      "3       Bette Davis                    F        1908\n",
      "4       Betty White                    F        1922\n",
      "..              ...                  ...         ...\n",
      "65        Tom Hanks                    M        1956\n",
      "66     Tony Bennett                    M        1926\n",
      "67     Wayne Newton                    M        1942\n",
      "68       Will Smith                    M        1968\n",
      "69    Willie Nelson                    M        1933\n",
      "\n",
      "[70 rows x 3 columns]\n"
     ]
    }
   ],
   "source": [
    "df1 = pd.read_excel('Entertainer - Basic Info.xlsx')\n",
    "print(df1)"
   ]
  },
  {
   "cell_type": "code",
   "execution_count": 3,
   "id": "a27eb3b4",
   "metadata": {},
   "outputs": [
    {
     "data": {
      "text/plain": [
       "(70, 3)"
      ]
     },
     "execution_count": 3,
     "metadata": {},
     "output_type": "execute_result"
    }
   ],
   "source": [
    "df1.shape"
   ]
  },
  {
   "cell_type": "code",
   "execution_count": 4,
   "id": "2a2f3d4c",
   "metadata": {},
   "outputs": [
    {
     "data": {
      "text/plain": [
       "210"
      ]
     },
     "execution_count": 4,
     "metadata": {},
     "output_type": "execute_result"
    }
   ],
   "source": [
    "df1.size"
   ]
  },
  {
   "cell_type": "code",
   "execution_count": 5,
   "id": "3b8fe8c6",
   "metadata": {},
   "outputs": [
    {
     "data": {
      "text/plain": [
       "Index(['Entertainer', 'Gender (traditional)', 'Birth Year'], dtype='object')"
      ]
     },
     "execution_count": 5,
     "metadata": {},
     "output_type": "execute_result"
    }
   ],
   "source": [
    "df1.columns"
   ]
  },
  {
   "cell_type": "code",
   "execution_count": 6,
   "id": "59b26462",
   "metadata": {},
   "outputs": [
    {
     "data": {
      "text/html": [
       "<div>\n",
       "<style scoped>\n",
       "    .dataframe tbody tr th:only-of-type {\n",
       "        vertical-align: middle;\n",
       "    }\n",
       "\n",
       "    .dataframe tbody tr th {\n",
       "        vertical-align: top;\n",
       "    }\n",
       "\n",
       "    .dataframe thead th {\n",
       "        text-align: right;\n",
       "    }\n",
       "</style>\n",
       "<table border=\"1\" class=\"dataframe\">\n",
       "  <thead>\n",
       "    <tr style=\"text-align: right;\">\n",
       "      <th></th>\n",
       "      <th>Entertainer</th>\n",
       "      <th>Gender (traditional)</th>\n",
       "      <th>Birth Year</th>\n",
       "    </tr>\n",
       "  </thead>\n",
       "  <tbody>\n",
       "    <tr>\n",
       "      <th>0</th>\n",
       "      <td>Adele</td>\n",
       "      <td>F</td>\n",
       "      <td>1988</td>\n",
       "    </tr>\n",
       "    <tr>\n",
       "      <th>1</th>\n",
       "      <td>Angelina Jolie</td>\n",
       "      <td>F</td>\n",
       "      <td>1975</td>\n",
       "    </tr>\n",
       "    <tr>\n",
       "      <th>2</th>\n",
       "      <td>Aretha Franklin</td>\n",
       "      <td>F</td>\n",
       "      <td>1942</td>\n",
       "    </tr>\n",
       "    <tr>\n",
       "      <th>3</th>\n",
       "      <td>Bette Davis</td>\n",
       "      <td>F</td>\n",
       "      <td>1908</td>\n",
       "    </tr>\n",
       "    <tr>\n",
       "      <th>4</th>\n",
       "      <td>Betty White</td>\n",
       "      <td>F</td>\n",
       "      <td>1922</td>\n",
       "    </tr>\n",
       "  </tbody>\n",
       "</table>\n",
       "</div>"
      ],
      "text/plain": [
       "       Entertainer Gender (traditional)  Birth Year\n",
       "0            Adele                    F        1988\n",
       "1   Angelina Jolie                    F        1975\n",
       "2  Aretha Franklin                    F        1942\n",
       "3      Bette Davis                    F        1908\n",
       "4      Betty White                    F        1922"
      ]
     },
     "execution_count": 6,
     "metadata": {},
     "output_type": "execute_result"
    }
   ],
   "source": [
    "df1.head()"
   ]
  },
  {
   "cell_type": "code",
   "execution_count": 7,
   "id": "661ad916",
   "metadata": {},
   "outputs": [
    {
     "data": {
      "text/plain": [
       "Entertainer  Gender (traditional)  Birth Year\n",
       "False        False                 False         70\n",
       "dtype: int64"
      ]
     },
     "execution_count": 7,
     "metadata": {},
     "output_type": "execute_result"
    }
   ],
   "source": [
    "df1.isnull().value_counts()"
   ]
  },
  {
   "cell_type": "markdown",
   "id": "fc255fa8",
   "metadata": {},
   "source": [
    "### Second Data "
   ]
  },
  {
   "cell_type": "code",
   "execution_count": 8,
   "id": "e8b167c4",
   "metadata": {},
   "outputs": [
    {
     "name": "stdout",
     "output_type": "stream",
     "text": [
      "        Entertainer  Year of Breakthrough/#1 Hit/Award Nomination  \\\n",
      "0             Adele                                          2008   \n",
      "1    Angelina Jolie                                          1999   \n",
      "2   Aretha Franklin                                          1967   \n",
      "3       Bette Davis                                          1934   \n",
      "4       Betty White                                          1952   \n",
      "..              ...                                           ...   \n",
      "65        Tom Hanks                                          1984   \n",
      "66     Tony Bennett                                          1951   \n",
      "67     Wayne Newton                                          1972   \n",
      "68       Will Smith                                          1990   \n",
      "69    Willie Nelson                                          1975   \n",
      "\n",
      "                           Breakthrough Name  Year of First Oscar/Grammy/Emmy  \n",
      "0                                         19                           2009.0  \n",
      "1                          Girl, Interrupted                           1999.0  \n",
      "2   I Never Loved a Man (The Way I Love You)                           1968.0  \n",
      "3                           Of Human Bondage                           1935.0  \n",
      "4                       Life with Elilzabeth                           1976.0  \n",
      "..                                       ...                              ...  \n",
      "65                                    Splash                           1993.0  \n",
      "66                            Because of You                           1963.0  \n",
      "67             Daddy, Don't You Walk So Fast                              NaN  \n",
      "68               The Fresh Prince of Bel-Air                           1988.0  \n",
      "69                       Red Headed Stranger                           1976.0  \n",
      "\n",
      "[70 rows x 4 columns]\n"
     ]
    }
   ],
   "source": [
    "df2 = pd.read_excel('Entertainer - Breakthrough Info.xlsx')\n",
    "print(df2)"
   ]
  },
  {
   "cell_type": "code",
   "execution_count": 9,
   "id": "1f420682",
   "metadata": {},
   "outputs": [
    {
     "data": {
      "text/plain": [
       "(70, 4)"
      ]
     },
     "execution_count": 9,
     "metadata": {},
     "output_type": "execute_result"
    }
   ],
   "source": [
    "df2.shape"
   ]
  },
  {
   "cell_type": "code",
   "execution_count": 10,
   "id": "de6552bd",
   "metadata": {},
   "outputs": [
    {
     "data": {
      "text/plain": [
       "280"
      ]
     },
     "execution_count": 10,
     "metadata": {},
     "output_type": "execute_result"
    }
   ],
   "source": [
    "df2.size"
   ]
  },
  {
   "cell_type": "code",
   "execution_count": 11,
   "id": "3f865a4f",
   "metadata": {},
   "outputs": [
    {
     "data": {
      "text/plain": [
       "Index(['Entertainer', 'Year of Breakthrough/#1 Hit/Award Nomination',\n",
       "       'Breakthrough Name', 'Year of First Oscar/Grammy/Emmy'],\n",
       "      dtype='object')"
      ]
     },
     "execution_count": 11,
     "metadata": {},
     "output_type": "execute_result"
    }
   ],
   "source": [
    "df2.columns"
   ]
  },
  {
   "cell_type": "code",
   "execution_count": 12,
   "id": "aa69f8f8",
   "metadata": {},
   "outputs": [
    {
     "data": {
      "text/html": [
       "<div>\n",
       "<style scoped>\n",
       "    .dataframe tbody tr th:only-of-type {\n",
       "        vertical-align: middle;\n",
       "    }\n",
       "\n",
       "    .dataframe tbody tr th {\n",
       "        vertical-align: top;\n",
       "    }\n",
       "\n",
       "    .dataframe thead th {\n",
       "        text-align: right;\n",
       "    }\n",
       "</style>\n",
       "<table border=\"1\" class=\"dataframe\">\n",
       "  <thead>\n",
       "    <tr style=\"text-align: right;\">\n",
       "      <th></th>\n",
       "      <th>Entertainer</th>\n",
       "      <th>Year of Breakthrough/#1 Hit/Award Nomination</th>\n",
       "      <th>Breakthrough Name</th>\n",
       "      <th>Year of First Oscar/Grammy/Emmy</th>\n",
       "    </tr>\n",
       "  </thead>\n",
       "  <tbody>\n",
       "    <tr>\n",
       "      <th>0</th>\n",
       "      <td>Adele</td>\n",
       "      <td>2008</td>\n",
       "      <td>19</td>\n",
       "      <td>2009.0</td>\n",
       "    </tr>\n",
       "    <tr>\n",
       "      <th>1</th>\n",
       "      <td>Angelina Jolie</td>\n",
       "      <td>1999</td>\n",
       "      <td>Girl, Interrupted</td>\n",
       "      <td>1999.0</td>\n",
       "    </tr>\n",
       "    <tr>\n",
       "      <th>2</th>\n",
       "      <td>Aretha Franklin</td>\n",
       "      <td>1967</td>\n",
       "      <td>I Never Loved a Man (The Way I Love You)</td>\n",
       "      <td>1968.0</td>\n",
       "    </tr>\n",
       "    <tr>\n",
       "      <th>3</th>\n",
       "      <td>Bette Davis</td>\n",
       "      <td>1934</td>\n",
       "      <td>Of Human Bondage</td>\n",
       "      <td>1935.0</td>\n",
       "    </tr>\n",
       "    <tr>\n",
       "      <th>4</th>\n",
       "      <td>Betty White</td>\n",
       "      <td>1952</td>\n",
       "      <td>Life with Elilzabeth</td>\n",
       "      <td>1976.0</td>\n",
       "    </tr>\n",
       "  </tbody>\n",
       "</table>\n",
       "</div>"
      ],
      "text/plain": [
       "       Entertainer  Year of Breakthrough/#1 Hit/Award Nomination  \\\n",
       "0            Adele                                          2008   \n",
       "1   Angelina Jolie                                          1999   \n",
       "2  Aretha Franklin                                          1967   \n",
       "3      Bette Davis                                          1934   \n",
       "4      Betty White                                          1952   \n",
       "\n",
       "                          Breakthrough Name  Year of First Oscar/Grammy/Emmy  \n",
       "0                                        19                           2009.0  \n",
       "1                         Girl, Interrupted                           1999.0  \n",
       "2  I Never Loved a Man (The Way I Love You)                           1968.0  \n",
       "3                          Of Human Bondage                           1935.0  \n",
       "4                      Life with Elilzabeth                           1976.0  "
      ]
     },
     "execution_count": 12,
     "metadata": {},
     "output_type": "execute_result"
    }
   ],
   "source": [
    "df2.head()"
   ]
  },
  {
   "cell_type": "code",
   "execution_count": 13,
   "id": "baeb29d7",
   "metadata": {},
   "outputs": [
    {
     "data": {
      "text/plain": [
       "Entertainer  Year of Breakthrough/#1 Hit/Award Nomination  Breakthrough Name  Year of First Oscar/Grammy/Emmy\n",
       "False        False                                         False              False                              64\n",
       "                                                                              True                                6\n",
       "dtype: int64"
      ]
     },
     "execution_count": 13,
     "metadata": {},
     "output_type": "execute_result"
    }
   ],
   "source": [
    "df2.isnull().value_counts()"
   ]
  },
  {
   "cell_type": "markdown",
   "id": "7b65ce6c",
   "metadata": {},
   "source": [
    "### Third Data "
   ]
  },
  {
   "cell_type": "code",
   "execution_count": 14,
   "id": "2870dcdd",
   "metadata": {},
   "outputs": [
    {
     "name": "stdout",
     "output_type": "stream",
     "text": [
      "        Entertainer  Year of Last Major Work (arguable)  Year of Death\n",
      "0             Adele                                2016            NaN\n",
      "1    Angelina Jolie                                2016            NaN\n",
      "2   Aretha Franklin                                2014            NaN\n",
      "3       Bette Davis                                1989         1989.0\n",
      "4       Betty White                                2016            NaN\n",
      "..              ...                                 ...            ...\n",
      "65        Tom Hanks                                2016            NaN\n",
      "66     Tony Bennett                                2016            NaN\n",
      "67     Wayne Newton                                2016            NaN\n",
      "68       Will Smith                                2016            NaN\n",
      "69    Willie Nelson                                2016            NaN\n",
      "\n",
      "[70 rows x 3 columns]\n"
     ]
    }
   ],
   "source": [
    "df3 = pd.read_excel('Entertainer - Last work Info.xlsx')\n",
    "print(df3)"
   ]
  },
  {
   "cell_type": "code",
   "execution_count": 15,
   "id": "6bb56ecd",
   "metadata": {},
   "outputs": [
    {
     "data": {
      "text/plain": [
       "210"
      ]
     },
     "execution_count": 15,
     "metadata": {},
     "output_type": "execute_result"
    }
   ],
   "source": [
    "df3.size"
   ]
  },
  {
   "cell_type": "code",
   "execution_count": 16,
   "id": "aba81d30",
   "metadata": {},
   "outputs": [
    {
     "data": {
      "text/plain": [
       "(70, 3)"
      ]
     },
     "execution_count": 16,
     "metadata": {},
     "output_type": "execute_result"
    }
   ],
   "source": [
    "df3.shape"
   ]
  },
  {
   "cell_type": "code",
   "execution_count": 17,
   "id": "629f25b9",
   "metadata": {},
   "outputs": [
    {
     "data": {
      "text/plain": [
       "Index(['Entertainer', 'Year of Last Major Work (arguable)', 'Year of Death'], dtype='object')"
      ]
     },
     "execution_count": 17,
     "metadata": {},
     "output_type": "execute_result"
    }
   ],
   "source": [
    "df3.columns"
   ]
  },
  {
   "cell_type": "code",
   "execution_count": 18,
   "id": "9593b341",
   "metadata": {},
   "outputs": [
    {
     "data": {
      "text/html": [
       "<div>\n",
       "<style scoped>\n",
       "    .dataframe tbody tr th:only-of-type {\n",
       "        vertical-align: middle;\n",
       "    }\n",
       "\n",
       "    .dataframe tbody tr th {\n",
       "        vertical-align: top;\n",
       "    }\n",
       "\n",
       "    .dataframe thead th {\n",
       "        text-align: right;\n",
       "    }\n",
       "</style>\n",
       "<table border=\"1\" class=\"dataframe\">\n",
       "  <thead>\n",
       "    <tr style=\"text-align: right;\">\n",
       "      <th></th>\n",
       "      <th>Entertainer</th>\n",
       "      <th>Year of Last Major Work (arguable)</th>\n",
       "      <th>Year of Death</th>\n",
       "    </tr>\n",
       "  </thead>\n",
       "  <tbody>\n",
       "    <tr>\n",
       "      <th>0</th>\n",
       "      <td>Adele</td>\n",
       "      <td>2016</td>\n",
       "      <td>NaN</td>\n",
       "    </tr>\n",
       "    <tr>\n",
       "      <th>1</th>\n",
       "      <td>Angelina Jolie</td>\n",
       "      <td>2016</td>\n",
       "      <td>NaN</td>\n",
       "    </tr>\n",
       "    <tr>\n",
       "      <th>2</th>\n",
       "      <td>Aretha Franklin</td>\n",
       "      <td>2014</td>\n",
       "      <td>NaN</td>\n",
       "    </tr>\n",
       "    <tr>\n",
       "      <th>3</th>\n",
       "      <td>Bette Davis</td>\n",
       "      <td>1989</td>\n",
       "      <td>1989.0</td>\n",
       "    </tr>\n",
       "    <tr>\n",
       "      <th>4</th>\n",
       "      <td>Betty White</td>\n",
       "      <td>2016</td>\n",
       "      <td>NaN</td>\n",
       "    </tr>\n",
       "  </tbody>\n",
       "</table>\n",
       "</div>"
      ],
      "text/plain": [
       "       Entertainer  Year of Last Major Work (arguable)  Year of Death\n",
       "0            Adele                                2016            NaN\n",
       "1   Angelina Jolie                                2016            NaN\n",
       "2  Aretha Franklin                                2014            NaN\n",
       "3      Bette Davis                                1989         1989.0\n",
       "4      Betty White                                2016            NaN"
      ]
     },
     "execution_count": 18,
     "metadata": {},
     "output_type": "execute_result"
    }
   ],
   "source": [
    "df3.head()"
   ]
  },
  {
   "cell_type": "code",
   "execution_count": 19,
   "id": "85a0a851",
   "metadata": {},
   "outputs": [
    {
     "data": {
      "text/plain": [
       "Entertainer  Year of Last Major Work (arguable)  Year of Death\n",
       "False        False                               True             40\n",
       "                                                 False            30\n",
       "dtype: int64"
      ]
     },
     "execution_count": 19,
     "metadata": {},
     "output_type": "execute_result"
    }
   ],
   "source": [
    "df3.isnull().value_counts()"
   ]
  },
  {
   "cell_type": "markdown",
   "id": "102c0be9",
   "metadata": {},
   "source": [
    "### Merge"
   ]
  },
  {
   "cell_type": "code",
   "execution_count": 20,
   "id": "899edd29",
   "metadata": {},
   "outputs": [
    {
     "data": {
      "text/html": [
       "<div>\n",
       "<style scoped>\n",
       "    .dataframe tbody tr th:only-of-type {\n",
       "        vertical-align: middle;\n",
       "    }\n",
       "\n",
       "    .dataframe tbody tr th {\n",
       "        vertical-align: top;\n",
       "    }\n",
       "\n",
       "    .dataframe thead th {\n",
       "        text-align: right;\n",
       "    }\n",
       "</style>\n",
       "<table border=\"1\" class=\"dataframe\">\n",
       "  <thead>\n",
       "    <tr style=\"text-align: right;\">\n",
       "      <th></th>\n",
       "      <th>Entertainer</th>\n",
       "      <th>Gender (traditional)</th>\n",
       "      <th>Birth Year</th>\n",
       "      <th>Year of Breakthrough/#1 Hit/Award Nomination</th>\n",
       "      <th>Breakthrough Name</th>\n",
       "      <th>Year of First Oscar/Grammy/Emmy</th>\n",
       "    </tr>\n",
       "  </thead>\n",
       "  <tbody>\n",
       "    <tr>\n",
       "      <th>0</th>\n",
       "      <td>Adele</td>\n",
       "      <td>F</td>\n",
       "      <td>1988</td>\n",
       "      <td>2008</td>\n",
       "      <td>19</td>\n",
       "      <td>2009.0</td>\n",
       "    </tr>\n",
       "    <tr>\n",
       "      <th>1</th>\n",
       "      <td>Angelina Jolie</td>\n",
       "      <td>F</td>\n",
       "      <td>1975</td>\n",
       "      <td>1999</td>\n",
       "      <td>Girl, Interrupted</td>\n",
       "      <td>1999.0</td>\n",
       "    </tr>\n",
       "    <tr>\n",
       "      <th>2</th>\n",
       "      <td>Aretha Franklin</td>\n",
       "      <td>F</td>\n",
       "      <td>1942</td>\n",
       "      <td>1967</td>\n",
       "      <td>I Never Loved a Man (The Way I Love You)</td>\n",
       "      <td>1968.0</td>\n",
       "    </tr>\n",
       "    <tr>\n",
       "      <th>3</th>\n",
       "      <td>Bette Davis</td>\n",
       "      <td>F</td>\n",
       "      <td>1908</td>\n",
       "      <td>1934</td>\n",
       "      <td>Of Human Bondage</td>\n",
       "      <td>1935.0</td>\n",
       "    </tr>\n",
       "    <tr>\n",
       "      <th>4</th>\n",
       "      <td>Betty White</td>\n",
       "      <td>F</td>\n",
       "      <td>1922</td>\n",
       "      <td>1952</td>\n",
       "      <td>Life with Elilzabeth</td>\n",
       "      <td>1976.0</td>\n",
       "    </tr>\n",
       "    <tr>\n",
       "      <th>...</th>\n",
       "      <td>...</td>\n",
       "      <td>...</td>\n",
       "      <td>...</td>\n",
       "      <td>...</td>\n",
       "      <td>...</td>\n",
       "      <td>...</td>\n",
       "    </tr>\n",
       "    <tr>\n",
       "      <th>65</th>\n",
       "      <td>Tom Hanks</td>\n",
       "      <td>M</td>\n",
       "      <td>1956</td>\n",
       "      <td>1984</td>\n",
       "      <td>Splash</td>\n",
       "      <td>1993.0</td>\n",
       "    </tr>\n",
       "    <tr>\n",
       "      <th>66</th>\n",
       "      <td>Tony Bennett</td>\n",
       "      <td>M</td>\n",
       "      <td>1926</td>\n",
       "      <td>1951</td>\n",
       "      <td>Because of You</td>\n",
       "      <td>1963.0</td>\n",
       "    </tr>\n",
       "    <tr>\n",
       "      <th>67</th>\n",
       "      <td>Wayne Newton</td>\n",
       "      <td>M</td>\n",
       "      <td>1942</td>\n",
       "      <td>1972</td>\n",
       "      <td>Daddy, Don't You Walk So Fast</td>\n",
       "      <td>NaN</td>\n",
       "    </tr>\n",
       "    <tr>\n",
       "      <th>68</th>\n",
       "      <td>Will Smith</td>\n",
       "      <td>M</td>\n",
       "      <td>1968</td>\n",
       "      <td>1990</td>\n",
       "      <td>The Fresh Prince of Bel-Air</td>\n",
       "      <td>1988.0</td>\n",
       "    </tr>\n",
       "    <tr>\n",
       "      <th>69</th>\n",
       "      <td>Willie Nelson</td>\n",
       "      <td>M</td>\n",
       "      <td>1933</td>\n",
       "      <td>1975</td>\n",
       "      <td>Red Headed Stranger</td>\n",
       "      <td>1976.0</td>\n",
       "    </tr>\n",
       "  </tbody>\n",
       "</table>\n",
       "<p>70 rows × 6 columns</p>\n",
       "</div>"
      ],
      "text/plain": [
       "        Entertainer Gender (traditional)  Birth Year  \\\n",
       "0             Adele                    F        1988   \n",
       "1    Angelina Jolie                    F        1975   \n",
       "2   Aretha Franklin                    F        1942   \n",
       "3       Bette Davis                    F        1908   \n",
       "4       Betty White                    F        1922   \n",
       "..              ...                  ...         ...   \n",
       "65        Tom Hanks                    M        1956   \n",
       "66     Tony Bennett                    M        1926   \n",
       "67     Wayne Newton                    M        1942   \n",
       "68       Will Smith                    M        1968   \n",
       "69    Willie Nelson                    M        1933   \n",
       "\n",
       "    Year of Breakthrough/#1 Hit/Award Nomination  \\\n",
       "0                                           2008   \n",
       "1                                           1999   \n",
       "2                                           1967   \n",
       "3                                           1934   \n",
       "4                                           1952   \n",
       "..                                           ...   \n",
       "65                                          1984   \n",
       "66                                          1951   \n",
       "67                                          1972   \n",
       "68                                          1990   \n",
       "69                                          1975   \n",
       "\n",
       "                           Breakthrough Name  Year of First Oscar/Grammy/Emmy  \n",
       "0                                         19                           2009.0  \n",
       "1                          Girl, Interrupted                           1999.0  \n",
       "2   I Never Loved a Man (The Way I Love You)                           1968.0  \n",
       "3                           Of Human Bondage                           1935.0  \n",
       "4                       Life with Elilzabeth                           1976.0  \n",
       "..                                       ...                              ...  \n",
       "65                                    Splash                           1993.0  \n",
       "66                            Because of You                           1963.0  \n",
       "67             Daddy, Don't You Walk So Fast                              NaN  \n",
       "68               The Fresh Prince of Bel-Air                           1988.0  \n",
       "69                       Red Headed Stranger                           1976.0  \n",
       "\n",
       "[70 rows x 6 columns]"
      ]
     },
     "execution_count": 20,
     "metadata": {},
     "output_type": "execute_result"
    }
   ],
   "source": [
    "pd1 = df1.merge(df2)\n",
    "pd1"
   ]
  },
  {
   "cell_type": "code",
   "execution_count": 21,
   "id": "f511d365",
   "metadata": {},
   "outputs": [
    {
     "data": {
      "text/html": [
       "<div>\n",
       "<style scoped>\n",
       "    .dataframe tbody tr th:only-of-type {\n",
       "        vertical-align: middle;\n",
       "    }\n",
       "\n",
       "    .dataframe tbody tr th {\n",
       "        vertical-align: top;\n",
       "    }\n",
       "\n",
       "    .dataframe thead th {\n",
       "        text-align: right;\n",
       "    }\n",
       "</style>\n",
       "<table border=\"1\" class=\"dataframe\">\n",
       "  <thead>\n",
       "    <tr style=\"text-align: right;\">\n",
       "      <th></th>\n",
       "      <th>Entertainer</th>\n",
       "      <th>Gender (traditional)</th>\n",
       "      <th>Birth Year</th>\n",
       "      <th>Year of Breakthrough/#1 Hit/Award Nomination</th>\n",
       "      <th>Breakthrough Name</th>\n",
       "      <th>Year of First Oscar/Grammy/Emmy</th>\n",
       "      <th>Year of Last Major Work (arguable)</th>\n",
       "      <th>Year of Death</th>\n",
       "    </tr>\n",
       "  </thead>\n",
       "  <tbody>\n",
       "    <tr>\n",
       "      <th>0</th>\n",
       "      <td>Adele</td>\n",
       "      <td>F</td>\n",
       "      <td>1988</td>\n",
       "      <td>2008</td>\n",
       "      <td>19</td>\n",
       "      <td>2009.0</td>\n",
       "      <td>2016</td>\n",
       "      <td>NaN</td>\n",
       "    </tr>\n",
       "    <tr>\n",
       "      <th>1</th>\n",
       "      <td>Angelina Jolie</td>\n",
       "      <td>F</td>\n",
       "      <td>1975</td>\n",
       "      <td>1999</td>\n",
       "      <td>Girl, Interrupted</td>\n",
       "      <td>1999.0</td>\n",
       "      <td>2016</td>\n",
       "      <td>NaN</td>\n",
       "    </tr>\n",
       "    <tr>\n",
       "      <th>2</th>\n",
       "      <td>Aretha Franklin</td>\n",
       "      <td>F</td>\n",
       "      <td>1942</td>\n",
       "      <td>1967</td>\n",
       "      <td>I Never Loved a Man (The Way I Love You)</td>\n",
       "      <td>1968.0</td>\n",
       "      <td>2014</td>\n",
       "      <td>NaN</td>\n",
       "    </tr>\n",
       "    <tr>\n",
       "      <th>3</th>\n",
       "      <td>Bette Davis</td>\n",
       "      <td>F</td>\n",
       "      <td>1908</td>\n",
       "      <td>1934</td>\n",
       "      <td>Of Human Bondage</td>\n",
       "      <td>1935.0</td>\n",
       "      <td>1989</td>\n",
       "      <td>1989.0</td>\n",
       "    </tr>\n",
       "    <tr>\n",
       "      <th>4</th>\n",
       "      <td>Betty White</td>\n",
       "      <td>F</td>\n",
       "      <td>1922</td>\n",
       "      <td>1952</td>\n",
       "      <td>Life with Elilzabeth</td>\n",
       "      <td>1976.0</td>\n",
       "      <td>2016</td>\n",
       "      <td>NaN</td>\n",
       "    </tr>\n",
       "    <tr>\n",
       "      <th>...</th>\n",
       "      <td>...</td>\n",
       "      <td>...</td>\n",
       "      <td>...</td>\n",
       "      <td>...</td>\n",
       "      <td>...</td>\n",
       "      <td>...</td>\n",
       "      <td>...</td>\n",
       "      <td>...</td>\n",
       "    </tr>\n",
       "    <tr>\n",
       "      <th>65</th>\n",
       "      <td>Tom Hanks</td>\n",
       "      <td>M</td>\n",
       "      <td>1956</td>\n",
       "      <td>1984</td>\n",
       "      <td>Splash</td>\n",
       "      <td>1993.0</td>\n",
       "      <td>2016</td>\n",
       "      <td>NaN</td>\n",
       "    </tr>\n",
       "    <tr>\n",
       "      <th>66</th>\n",
       "      <td>Tony Bennett</td>\n",
       "      <td>M</td>\n",
       "      <td>1926</td>\n",
       "      <td>1951</td>\n",
       "      <td>Because of You</td>\n",
       "      <td>1963.0</td>\n",
       "      <td>2016</td>\n",
       "      <td>NaN</td>\n",
       "    </tr>\n",
       "    <tr>\n",
       "      <th>67</th>\n",
       "      <td>Wayne Newton</td>\n",
       "      <td>M</td>\n",
       "      <td>1942</td>\n",
       "      <td>1972</td>\n",
       "      <td>Daddy, Don't You Walk So Fast</td>\n",
       "      <td>NaN</td>\n",
       "      <td>2016</td>\n",
       "      <td>NaN</td>\n",
       "    </tr>\n",
       "    <tr>\n",
       "      <th>68</th>\n",
       "      <td>Will Smith</td>\n",
       "      <td>M</td>\n",
       "      <td>1968</td>\n",
       "      <td>1990</td>\n",
       "      <td>The Fresh Prince of Bel-Air</td>\n",
       "      <td>1988.0</td>\n",
       "      <td>2016</td>\n",
       "      <td>NaN</td>\n",
       "    </tr>\n",
       "    <tr>\n",
       "      <th>69</th>\n",
       "      <td>Willie Nelson</td>\n",
       "      <td>M</td>\n",
       "      <td>1933</td>\n",
       "      <td>1975</td>\n",
       "      <td>Red Headed Stranger</td>\n",
       "      <td>1976.0</td>\n",
       "      <td>2016</td>\n",
       "      <td>NaN</td>\n",
       "    </tr>\n",
       "  </tbody>\n",
       "</table>\n",
       "<p>70 rows × 8 columns</p>\n",
       "</div>"
      ],
      "text/plain": [
       "        Entertainer Gender (traditional)  Birth Year  \\\n",
       "0             Adele                    F        1988   \n",
       "1    Angelina Jolie                    F        1975   \n",
       "2   Aretha Franklin                    F        1942   \n",
       "3       Bette Davis                    F        1908   \n",
       "4       Betty White                    F        1922   \n",
       "..              ...                  ...         ...   \n",
       "65        Tom Hanks                    M        1956   \n",
       "66     Tony Bennett                    M        1926   \n",
       "67     Wayne Newton                    M        1942   \n",
       "68       Will Smith                    M        1968   \n",
       "69    Willie Nelson                    M        1933   \n",
       "\n",
       "    Year of Breakthrough/#1 Hit/Award Nomination  \\\n",
       "0                                           2008   \n",
       "1                                           1999   \n",
       "2                                           1967   \n",
       "3                                           1934   \n",
       "4                                           1952   \n",
       "..                                           ...   \n",
       "65                                          1984   \n",
       "66                                          1951   \n",
       "67                                          1972   \n",
       "68                                          1990   \n",
       "69                                          1975   \n",
       "\n",
       "                           Breakthrough Name  Year of First Oscar/Grammy/Emmy  \\\n",
       "0                                         19                           2009.0   \n",
       "1                          Girl, Interrupted                           1999.0   \n",
       "2   I Never Loved a Man (The Way I Love You)                           1968.0   \n",
       "3                           Of Human Bondage                           1935.0   \n",
       "4                       Life with Elilzabeth                           1976.0   \n",
       "..                                       ...                              ...   \n",
       "65                                    Splash                           1993.0   \n",
       "66                            Because of You                           1963.0   \n",
       "67             Daddy, Don't You Walk So Fast                              NaN   \n",
       "68               The Fresh Prince of Bel-Air                           1988.0   \n",
       "69                       Red Headed Stranger                           1976.0   \n",
       "\n",
       "    Year of Last Major Work (arguable)  Year of Death  \n",
       "0                                 2016            NaN  \n",
       "1                                 2016            NaN  \n",
       "2                                 2014            NaN  \n",
       "3                                 1989         1989.0  \n",
       "4                                 2016            NaN  \n",
       "..                                 ...            ...  \n",
       "65                                2016            NaN  \n",
       "66                                2016            NaN  \n",
       "67                                2016            NaN  \n",
       "68                                2016            NaN  \n",
       "69                                2016            NaN  \n",
       "\n",
       "[70 rows x 8 columns]"
      ]
     },
     "execution_count": 21,
     "metadata": {},
     "output_type": "execute_result"
    }
   ],
   "source": [
    "pd = pd1.merge(df3)\n",
    "pd\n"
   ]
  },
  {
   "cell_type": "code",
   "execution_count": 22,
   "id": "15802e46",
   "metadata": {},
   "outputs": [
    {
     "data": {
      "text/plain": [
       "(70, 8)"
      ]
     },
     "execution_count": 22,
     "metadata": {},
     "output_type": "execute_result"
    }
   ],
   "source": [
    "pd.shape"
   ]
  },
  {
   "cell_type": "code",
   "execution_count": 23,
   "id": "87e9b0c6",
   "metadata": {},
   "outputs": [
    {
     "data": {
      "text/plain": [
       "Entertainer  Gender (traditional)  Birth Year  Year of Breakthrough/#1 Hit/Award Nomination  Breakthrough Name  Year of First Oscar/Grammy/Emmy  Year of Last Major Work (arguable)  Year of Death\n",
       "False        False                 False       False                                         False              False                            False                               True             38\n",
       "                                                                                                                                                                                     False            26\n",
       "                                                                                                                True                             False                               False             4\n",
       "                                                                                                                                                                                     True              2\n",
       "dtype: int64"
      ]
     },
     "execution_count": 23,
     "metadata": {},
     "output_type": "execute_result"
    }
   ],
   "source": [
    "pd.isnull().value_counts()"
   ]
  },
  {
   "cell_type": "code",
   "execution_count": 24,
   "id": "08e3db8a",
   "metadata": {},
   "outputs": [
    {
     "data": {
      "text/plain": [
       "Index(['Entertainer', 'Gender (traditional)', 'Birth Year',\n",
       "       'Year of Breakthrough/#1 Hit/Award Nomination', 'Breakthrough Name',\n",
       "       'Year of First Oscar/Grammy/Emmy', 'Year of Last Major Work (arguable)',\n",
       "       'Year of Death'],\n",
       "      dtype='object')"
      ]
     },
     "execution_count": 24,
     "metadata": {},
     "output_type": "execute_result"
    }
   ],
   "source": [
    "pd.columns"
   ]
  },
  {
   "cell_type": "code",
   "execution_count": 25,
   "id": "08d554dc",
   "metadata": {},
   "outputs": [
    {
     "data": {
      "text/html": [
       "<div>\n",
       "<style scoped>\n",
       "    .dataframe tbody tr th:only-of-type {\n",
       "        vertical-align: middle;\n",
       "    }\n",
       "\n",
       "    .dataframe tbody tr th {\n",
       "        vertical-align: top;\n",
       "    }\n",
       "\n",
       "    .dataframe thead th {\n",
       "        text-align: right;\n",
       "    }\n",
       "</style>\n",
       "<table border=\"1\" class=\"dataframe\">\n",
       "  <thead>\n",
       "    <tr style=\"text-align: right;\">\n",
       "      <th></th>\n",
       "      <th>Birth Year</th>\n",
       "      <th>Year of Breakthrough/#1 Hit/Award Nomination</th>\n",
       "      <th>Year of First Oscar/Grammy/Emmy</th>\n",
       "      <th>Year of Last Major Work (arguable)</th>\n",
       "      <th>Year of Death</th>\n",
       "    </tr>\n",
       "  </thead>\n",
       "  <tbody>\n",
       "    <tr>\n",
       "      <th>count</th>\n",
       "      <td>70.000000</td>\n",
       "      <td>70.000000</td>\n",
       "      <td>64.000000</td>\n",
       "      <td>70.000000</td>\n",
       "      <td>30.000000</td>\n",
       "    </tr>\n",
       "    <tr>\n",
       "      <th>mean</th>\n",
       "      <td>1935.585714</td>\n",
       "      <td>1964.228571</td>\n",
       "      <td>1976.234375</td>\n",
       "      <td>1998.971429</td>\n",
       "      <td>1988.133333</td>\n",
       "    </tr>\n",
       "    <tr>\n",
       "      <th>std</th>\n",
       "      <td>24.135783</td>\n",
       "      <td>22.411935</td>\n",
       "      <td>22.170152</td>\n",
       "      <td>22.874561</td>\n",
       "      <td>20.483355</td>\n",
       "    </tr>\n",
       "    <tr>\n",
       "      <th>min</th>\n",
       "      <td>1889.000000</td>\n",
       "      <td>1915.000000</td>\n",
       "      <td>1929.000000</td>\n",
       "      <td>1933.000000</td>\n",
       "      <td>1942.000000</td>\n",
       "    </tr>\n",
       "    <tr>\n",
       "      <th>25%</th>\n",
       "      <td>1916.000000</td>\n",
       "      <td>1949.500000</td>\n",
       "      <td>1962.000000</td>\n",
       "      <td>1980.000000</td>\n",
       "      <td>1977.000000</td>\n",
       "    </tr>\n",
       "    <tr>\n",
       "      <th>50%</th>\n",
       "      <td>1935.500000</td>\n",
       "      <td>1963.500000</td>\n",
       "      <td>1978.000000</td>\n",
       "      <td>2014.000000</td>\n",
       "      <td>1989.500000</td>\n",
       "    </tr>\n",
       "    <tr>\n",
       "      <th>75%</th>\n",
       "      <td>1954.000000</td>\n",
       "      <td>1983.500000</td>\n",
       "      <td>1993.000000</td>\n",
       "      <td>2016.000000</td>\n",
       "      <td>2003.750000</td>\n",
       "    </tr>\n",
       "    <tr>\n",
       "      <th>max</th>\n",
       "      <td>1988.000000</td>\n",
       "      <td>2008.000000</td>\n",
       "      <td>2017.000000</td>\n",
       "      <td>2016.000000</td>\n",
       "      <td>2016.000000</td>\n",
       "    </tr>\n",
       "  </tbody>\n",
       "</table>\n",
       "</div>"
      ],
      "text/plain": [
       "        Birth Year  Year of Breakthrough/#1 Hit/Award Nomination  \\\n",
       "count    70.000000                                     70.000000   \n",
       "mean   1935.585714                                   1964.228571   \n",
       "std      24.135783                                     22.411935   \n",
       "min    1889.000000                                   1915.000000   \n",
       "25%    1916.000000                                   1949.500000   \n",
       "50%    1935.500000                                   1963.500000   \n",
       "75%    1954.000000                                   1983.500000   \n",
       "max    1988.000000                                   2008.000000   \n",
       "\n",
       "       Year of First Oscar/Grammy/Emmy  Year of Last Major Work (arguable)  \\\n",
       "count                        64.000000                           70.000000   \n",
       "mean                       1976.234375                         1998.971429   \n",
       "std                          22.170152                           22.874561   \n",
       "min                        1929.000000                         1933.000000   \n",
       "25%                        1962.000000                         1980.000000   \n",
       "50%                        1978.000000                         2014.000000   \n",
       "75%                        1993.000000                         2016.000000   \n",
       "max                        2017.000000                         2016.000000   \n",
       "\n",
       "       Year of Death  \n",
       "count      30.000000  \n",
       "mean     1988.133333  \n",
       "std        20.483355  \n",
       "min      1942.000000  \n",
       "25%      1977.000000  \n",
       "50%      1989.500000  \n",
       "75%      2003.750000  \n",
       "max      2016.000000  "
      ]
     },
     "execution_count": 25,
     "metadata": {},
     "output_type": "execute_result"
    }
   ],
   "source": [
    "pd.describe()"
   ]
  },
  {
   "cell_type": "code",
   "execution_count": 26,
   "id": "17d9a215",
   "metadata": {},
   "outputs": [
    {
     "name": "stdout",
     "output_type": "stream",
     "text": [
      "<class 'pandas.core.frame.DataFrame'>\n",
      "Int64Index: 70 entries, 0 to 69\n",
      "Data columns (total 8 columns):\n",
      " #   Column                                        Non-Null Count  Dtype  \n",
      "---  ------                                        --------------  -----  \n",
      " 0   Entertainer                                   70 non-null     object \n",
      " 1   Gender (traditional)                          70 non-null     object \n",
      " 2   Birth Year                                    70 non-null     int64  \n",
      " 3   Year of Breakthrough/#1 Hit/Award Nomination  70 non-null     int64  \n",
      " 4   Breakthrough Name                             70 non-null     object \n",
      " 5   Year of First Oscar/Grammy/Emmy               64 non-null     float64\n",
      " 6   Year of Last Major Work (arguable)            70 non-null     int64  \n",
      " 7   Year of Death                                 30 non-null     float64\n",
      "dtypes: float64(2), int64(3), object(3)\n",
      "memory usage: 4.9+ KB\n"
     ]
    }
   ],
   "source": [
    "pd.info()"
   ]
  },
  {
   "cell_type": "code",
   "execution_count": 27,
   "id": "9d560d1a",
   "metadata": {},
   "outputs": [
    {
     "data": {
      "text/plain": [
       "<AxesSubplot:>"
      ]
     },
     "execution_count": 27,
     "metadata": {},
     "output_type": "execute_result"
    },
    {
     "data": {
      "image/png": "[encoded data removed]",
      "text/plain": [
       "<Figure size 360x360 with 1 Axes>"
      ]
     },
     "metadata": {
      "needs_background": "light"
     },
     "output_type": "display_data"
    }
   ],
   "source": [
    "figure = plt.figure(figsize=(5,5))\n",
    "sns.heatmap(pd.isnull(),yticklabels=False,cbar=False,cmap='Accent_r')"
   ]
  },
  {
   "cell_type": "code",
   "execution_count": 28,
   "id": "328b41d8",
   "metadata": {},
   "outputs": [],
   "source": [
    "pd2 = pd.copy()"
   ]
  },
  {
   "cell_type": "code",
   "execution_count": 29,
   "id": "9c14d463",
   "metadata": {},
   "outputs": [
    {
     "data": {
      "text/html": [
       "<div>\n",
       "<style scoped>\n",
       "    .dataframe tbody tr th:only-of-type {\n",
       "        vertical-align: middle;\n",
       "    }\n",
       "\n",
       "    .dataframe tbody tr th {\n",
       "        vertical-align: top;\n",
       "    }\n",
       "\n",
       "    .dataframe thead th {\n",
       "        text-align: right;\n",
       "    }\n",
       "</style>\n",
       "<table border=\"1\" class=\"dataframe\">\n",
       "  <thead>\n",
       "    <tr style=\"text-align: right;\">\n",
       "      <th></th>\n",
       "      <th>Entertainer</th>\n",
       "      <th>Gender (traditional)</th>\n",
       "      <th>Birth Year</th>\n",
       "      <th>Year of Breakthrough/#1 Hit/Award Nomination</th>\n",
       "      <th>Breakthrough Name</th>\n",
       "      <th>Year of First Oscar/Grammy/Emmy</th>\n",
       "      <th>Year of Last Major Work (arguable)</th>\n",
       "      <th>Year of Death</th>\n",
       "      <th>Age</th>\n",
       "    </tr>\n",
       "  </thead>\n",
       "  <tbody>\n",
       "    <tr>\n",
       "      <th>0</th>\n",
       "      <td>Adele</td>\n",
       "      <td>F</td>\n",
       "      <td>1988</td>\n",
       "      <td>2008</td>\n",
       "      <td>19</td>\n",
       "      <td>2009.0</td>\n",
       "      <td>2016</td>\n",
       "      <td>NaN</td>\n",
       "      <td>36</td>\n",
       "    </tr>\n",
       "    <tr>\n",
       "      <th>1</th>\n",
       "      <td>Angelina Jolie</td>\n",
       "      <td>F</td>\n",
       "      <td>1975</td>\n",
       "      <td>1999</td>\n",
       "      <td>Girl, Interrupted</td>\n",
       "      <td>1999.0</td>\n",
       "      <td>2016</td>\n",
       "      <td>NaN</td>\n",
       "      <td>49</td>\n",
       "    </tr>\n",
       "    <tr>\n",
       "      <th>2</th>\n",
       "      <td>Aretha Franklin</td>\n",
       "      <td>F</td>\n",
       "      <td>1942</td>\n",
       "      <td>1967</td>\n",
       "      <td>I Never Loved a Man (The Way I Love You)</td>\n",
       "      <td>1968.0</td>\n",
       "      <td>2014</td>\n",
       "      <td>NaN</td>\n",
       "      <td>82</td>\n",
       "    </tr>\n",
       "    <tr>\n",
       "      <th>3</th>\n",
       "      <td>Bette Davis</td>\n",
       "      <td>F</td>\n",
       "      <td>1908</td>\n",
       "      <td>1934</td>\n",
       "      <td>Of Human Bondage</td>\n",
       "      <td>1935.0</td>\n",
       "      <td>1989</td>\n",
       "      <td>1989.0</td>\n",
       "      <td>116</td>\n",
       "    </tr>\n",
       "    <tr>\n",
       "      <th>4</th>\n",
       "      <td>Betty White</td>\n",
       "      <td>F</td>\n",
       "      <td>1922</td>\n",
       "      <td>1952</td>\n",
       "      <td>Life with Elilzabeth</td>\n",
       "      <td>1976.0</td>\n",
       "      <td>2016</td>\n",
       "      <td>NaN</td>\n",
       "      <td>102</td>\n",
       "    </tr>\n",
       "    <tr>\n",
       "      <th>...</th>\n",
       "      <td>...</td>\n",
       "      <td>...</td>\n",
       "      <td>...</td>\n",
       "      <td>...</td>\n",
       "      <td>...</td>\n",
       "      <td>...</td>\n",
       "      <td>...</td>\n",
       "      <td>...</td>\n",
       "      <td>...</td>\n",
       "    </tr>\n",
       "    <tr>\n",
       "      <th>65</th>\n",
       "      <td>Tom Hanks</td>\n",
       "      <td>M</td>\n",
       "      <td>1956</td>\n",
       "      <td>1984</td>\n",
       "      <td>Splash</td>\n",
       "      <td>1993.0</td>\n",
       "      <td>2016</td>\n",
       "      <td>NaN</td>\n",
       "      <td>68</td>\n",
       "    </tr>\n",
       "    <tr>\n",
       "      <th>66</th>\n",
       "      <td>Tony Bennett</td>\n",
       "      <td>M</td>\n",
       "      <td>1926</td>\n",
       "      <td>1951</td>\n",
       "      <td>Because of You</td>\n",
       "      <td>1963.0</td>\n",
       "      <td>2016</td>\n",
       "      <td>NaN</td>\n",
       "      <td>98</td>\n",
       "    </tr>\n",
       "    <tr>\n",
       "      <th>67</th>\n",
       "      <td>Wayne Newton</td>\n",
       "      <td>M</td>\n",
       "      <td>1942</td>\n",
       "      <td>1972</td>\n",
       "      <td>Daddy, Don't You Walk So Fast</td>\n",
       "      <td>NaN</td>\n",
       "      <td>2016</td>\n",
       "      <td>NaN</td>\n",
       "      <td>82</td>\n",
       "    </tr>\n",
       "    <tr>\n",
       "      <th>68</th>\n",
       "      <td>Will Smith</td>\n",
       "      <td>M</td>\n",
       "      <td>1968</td>\n",
       "      <td>1990</td>\n",
       "      <td>The Fresh Prince of Bel-Air</td>\n",
       "      <td>1988.0</td>\n",
       "      <td>2016</td>\n",
       "      <td>NaN</td>\n",
       "      <td>56</td>\n",
       "    </tr>\n",
       "    <tr>\n",
       "      <th>69</th>\n",
       "      <td>Willie Nelson</td>\n",
       "      <td>M</td>\n",
       "      <td>1933</td>\n",
       "      <td>1975</td>\n",
       "      <td>Red Headed Stranger</td>\n",
       "      <td>1976.0</td>\n",
       "      <td>2016</td>\n",
       "      <td>NaN</td>\n",
       "      <td>91</td>\n",
       "    </tr>\n",
       "  </tbody>\n",
       "</table>\n",
       "<p>70 rows × 9 columns</p>\n",
       "</div>"
      ],
      "text/plain": [
       "        Entertainer Gender (traditional)  Birth Year  \\\n",
       "0             Adele                    F        1988   \n",
       "1    Angelina Jolie                    F        1975   \n",
       "2   Aretha Franklin                    F        1942   \n",
       "3       Bette Davis                    F        1908   \n",
       "4       Betty White                    F        1922   \n",
       "..              ...                  ...         ...   \n",
       "65        Tom Hanks                    M        1956   \n",
       "66     Tony Bennett                    M        1926   \n",
       "67     Wayne Newton                    M        1942   \n",
       "68       Will Smith                    M        1968   \n",
       "69    Willie Nelson                    M        1933   \n",
       "\n",
       "    Year of Breakthrough/#1 Hit/Award Nomination  \\\n",
       "0                                           2008   \n",
       "1                                           1999   \n",
       "2                                           1967   \n",
       "3                                           1934   \n",
       "4                                           1952   \n",
       "..                                           ...   \n",
       "65                                          1984   \n",
       "66                                          1951   \n",
       "67                                          1972   \n",
       "68                                          1990   \n",
       "69                                          1975   \n",
       "\n",
       "                           Breakthrough Name  Year of First Oscar/Grammy/Emmy  \\\n",
       "0                                         19                           2009.0   \n",
       "1                          Girl, Interrupted                           1999.0   \n",
       "2   I Never Loved a Man (The Way I Love You)                           1968.0   \n",
       "3                           Of Human Bondage                           1935.0   \n",
       "4                       Life with Elilzabeth                           1976.0   \n",
       "..                                       ...                              ...   \n",
       "65                                    Splash                           1993.0   \n",
       "66                            Because of You                           1963.0   \n",
       "67             Daddy, Don't You Walk So Fast                              NaN   \n",
       "68               The Fresh Prince of Bel-Air                           1988.0   \n",
       "69                       Red Headed Stranger                           1976.0   \n",
       "\n",
       "    Year of Last Major Work (arguable)  Year of Death  Age  \n",
       "0                                 2016            NaN   36  \n",
       "1                                 2016            NaN   49  \n",
       "2                                 2014            NaN   82  \n",
       "3                                 1989         1989.0  116  \n",
       "4                                 2016            NaN  102  \n",
       "..                                 ...            ...  ...  \n",
       "65                                2016            NaN   68  \n",
       "66                                2016            NaN   98  \n",
       "67                                2016            NaN   82  \n",
       "68                                2016            NaN   56  \n",
       "69                                2016            NaN   91  \n",
       "\n",
       "[70 rows x 9 columns]"
      ]
     },
     "execution_count": 29,
     "metadata": {},
     "output_type": "execute_result"
    }
   ],
   "source": [
    "#adding a new column\n",
    "if pd['Year of Death'].isnull().all():\n",
    "    pd2['Age'] = pd['Year of Death'] - pd['Birth Year']\n",
    "  \n",
    "else: \n",
    "      pd2['Age'] = 2024 - pd['Birth Year']\n",
    "\n",
    "pd2\n"
   ]
  },
  {
   "cell_type": "code",
   "execution_count": 30,
   "id": "ca80935c",
   "metadata": {},
   "outputs": [
    {
     "data": {
      "text/plain": [
       "<AxesSubplot:>"
      ]
     },
     "execution_count": 30,
     "metadata": {},
     "output_type": "execute_result"
    },
    {
     "data": {
      "image/png": "[encoded data removed]",
      "text/plain": [
       "<Figure size 360x360 with 2 Axes>"
      ]
     },
     "metadata": {
      "needs_background": "light"
     },
     "output_type": "display_data"
    }
   ],
   "source": [
    "figure = plt.figure(figsize=(5,5))\n",
    "sns.heatmap(pd.corr(), annot=True , cmap=\"flag_r\")"
   ]
  },
  {
   "cell_type": "markdown",
   "id": "b17aa67e",
   "metadata": {},
   "source": [
    "### Gender"
   ]
  },
  {
   "cell_type": "code",
   "execution_count": 31,
   "id": "7438e459",
   "metadata": {},
   "outputs": [
    {
     "data": {
      "text/html": [
       "<div>\n",
       "<style scoped>\n",
       "    .dataframe tbody tr th:only-of-type {\n",
       "        vertical-align: middle;\n",
       "    }\n",
       "\n",
       "    .dataframe tbody tr th {\n",
       "        vertical-align: top;\n",
       "    }\n",
       "\n",
       "    .dataframe thead th {\n",
       "        text-align: right;\n",
       "    }\n",
       "</style>\n",
       "<table border=\"1\" class=\"dataframe\">\n",
       "  <thead>\n",
       "    <tr style=\"text-align: right;\">\n",
       "      <th></th>\n",
       "      <th>Entertainer</th>\n",
       "      <th>Gender (traditional)</th>\n",
       "      <th>Birth Year</th>\n",
       "      <th>Year of Breakthrough/#1 Hit/Award Nomination</th>\n",
       "      <th>Breakthrough Name</th>\n",
       "      <th>Year of First Oscar/Grammy/Emmy</th>\n",
       "      <th>Year of Last Major Work (arguable)</th>\n",
       "      <th>Year of Death</th>\n",
       "    </tr>\n",
       "  </thead>\n",
       "  <tbody>\n",
       "    <tr>\n",
       "      <th>0</th>\n",
       "      <td>Adele</td>\n",
       "      <td>F</td>\n",
       "      <td>1988</td>\n",
       "      <td>2008</td>\n",
       "      <td>19</td>\n",
       "      <td>2009.0</td>\n",
       "      <td>2016</td>\n",
       "      <td>NaN</td>\n",
       "    </tr>\n",
       "    <tr>\n",
       "      <th>1</th>\n",
       "      <td>Angelina Jolie</td>\n",
       "      <td>F</td>\n",
       "      <td>1975</td>\n",
       "      <td>1999</td>\n",
       "      <td>Girl, Interrupted</td>\n",
       "      <td>1999.0</td>\n",
       "      <td>2016</td>\n",
       "      <td>NaN</td>\n",
       "    </tr>\n",
       "    <tr>\n",
       "      <th>2</th>\n",
       "      <td>Aretha Franklin</td>\n",
       "      <td>F</td>\n",
       "      <td>1942</td>\n",
       "      <td>1967</td>\n",
       "      <td>I Never Loved a Man (The Way I Love You)</td>\n",
       "      <td>1968.0</td>\n",
       "      <td>2014</td>\n",
       "      <td>NaN</td>\n",
       "    </tr>\n",
       "    <tr>\n",
       "      <th>3</th>\n",
       "      <td>Bette Davis</td>\n",
       "      <td>F</td>\n",
       "      <td>1908</td>\n",
       "      <td>1934</td>\n",
       "      <td>Of Human Bondage</td>\n",
       "      <td>1935.0</td>\n",
       "      <td>1989</td>\n",
       "      <td>1989.0</td>\n",
       "    </tr>\n",
       "    <tr>\n",
       "      <th>4</th>\n",
       "      <td>Betty White</td>\n",
       "      <td>F</td>\n",
       "      <td>1922</td>\n",
       "      <td>1952</td>\n",
       "      <td>Life with Elilzabeth</td>\n",
       "      <td>1976.0</td>\n",
       "      <td>2016</td>\n",
       "      <td>NaN</td>\n",
       "    </tr>\n",
       "  </tbody>\n",
       "</table>\n",
       "</div>"
      ],
      "text/plain": [
       "       Entertainer Gender (traditional)  Birth Year  \\\n",
       "0            Adele                    F        1988   \n",
       "1   Angelina Jolie                    F        1975   \n",
       "2  Aretha Franklin                    F        1942   \n",
       "3      Bette Davis                    F        1908   \n",
       "4      Betty White                    F        1922   \n",
       "\n",
       "   Year of Breakthrough/#1 Hit/Award Nomination  \\\n",
       "0                                          2008   \n",
       "1                                          1999   \n",
       "2                                          1967   \n",
       "3                                          1934   \n",
       "4                                          1952   \n",
       "\n",
       "                          Breakthrough Name  Year of First Oscar/Grammy/Emmy  \\\n",
       "0                                        19                           2009.0   \n",
       "1                         Girl, Interrupted                           1999.0   \n",
       "2  I Never Loved a Man (The Way I Love You)                           1968.0   \n",
       "3                          Of Human Bondage                           1935.0   \n",
       "4                      Life with Elilzabeth                           1976.0   \n",
       "\n",
       "   Year of Last Major Work (arguable)  Year of Death  \n",
       "0                                2016            NaN  \n",
       "1                                2016            NaN  \n",
       "2                                2014            NaN  \n",
       "3                                1989         1989.0  \n",
       "4                                2016            NaN  "
      ]
     },
     "execution_count": 31,
     "metadata": {},
     "output_type": "execute_result"
    }
   ],
   "source": [
    "pd.head()"
   ]
  },
  {
   "cell_type": "code",
   "execution_count": 32,
   "id": "d480b1e0",
   "metadata": {},
   "outputs": [
    {
     "data": {
      "text/plain": [
       "M    50\n",
       "F    20\n",
       "Name: Gender (traditional), dtype: int64"
      ]
     },
     "execution_count": 32,
     "metadata": {},
     "output_type": "execute_result"
    }
   ],
   "source": [
    "pd['Gender (traditional)'].value_counts()"
   ]
  },
  {
   "cell_type": "code",
   "execution_count": 33,
   "id": "30482005",
   "metadata": {},
   "outputs": [
    {
     "data": {
      "text/plain": [
       "False    70\n",
       "Name: Gender (traditional), dtype: int64"
      ]
     },
     "execution_count": 33,
     "metadata": {},
     "output_type": "execute_result"
    }
   ],
   "source": [
    "pd['Gender (traditional)'].isnull().value_counts()"
   ]
  },
  {
   "cell_type": "markdown",
   "id": "30bda259",
   "metadata": {},
   "source": [
    "## Year of death"
   ]
  },
  {
   "cell_type": "code",
   "execution_count": 34,
   "id": "681403a7",
   "metadata": {},
   "outputs": [
    {
     "data": {
      "text/html": [
       "<div>\n",
       "<style scoped>\n",
       "    .dataframe tbody tr th:only-of-type {\n",
       "        vertical-align: middle;\n",
       "    }\n",
       "\n",
       "    .dataframe tbody tr th {\n",
       "        vertical-align: top;\n",
       "    }\n",
       "\n",
       "    .dataframe thead th {\n",
       "        text-align: right;\n",
       "    }\n",
       "</style>\n",
       "<table border=\"1\" class=\"dataframe\">\n",
       "  <thead>\n",
       "    <tr style=\"text-align: right;\">\n",
       "      <th></th>\n",
       "      <th>Entertainer</th>\n",
       "      <th>Gender (traditional)</th>\n",
       "      <th>Birth Year</th>\n",
       "      <th>Year of Breakthrough/#1 Hit/Award Nomination</th>\n",
       "      <th>Breakthrough Name</th>\n",
       "      <th>Year of First Oscar/Grammy/Emmy</th>\n",
       "      <th>Year of Last Major Work (arguable)</th>\n",
       "      <th>Year of Death</th>\n",
       "    </tr>\n",
       "  </thead>\n",
       "  <tbody>\n",
       "    <tr>\n",
       "      <th>0</th>\n",
       "      <td>Adele</td>\n",
       "      <td>F</td>\n",
       "      <td>1988</td>\n",
       "      <td>2008</td>\n",
       "      <td>19</td>\n",
       "      <td>2009.0</td>\n",
       "      <td>2016</td>\n",
       "      <td>NaN</td>\n",
       "    </tr>\n",
       "    <tr>\n",
       "      <th>1</th>\n",
       "      <td>Angelina Jolie</td>\n",
       "      <td>F</td>\n",
       "      <td>1975</td>\n",
       "      <td>1999</td>\n",
       "      <td>Girl, Interrupted</td>\n",
       "      <td>1999.0</td>\n",
       "      <td>2016</td>\n",
       "      <td>NaN</td>\n",
       "    </tr>\n",
       "    <tr>\n",
       "      <th>2</th>\n",
       "      <td>Aretha Franklin</td>\n",
       "      <td>F</td>\n",
       "      <td>1942</td>\n",
       "      <td>1967</td>\n",
       "      <td>I Never Loved a Man (The Way I Love You)</td>\n",
       "      <td>1968.0</td>\n",
       "      <td>2014</td>\n",
       "      <td>NaN</td>\n",
       "    </tr>\n",
       "    <tr>\n",
       "      <th>3</th>\n",
       "      <td>Bette Davis</td>\n",
       "      <td>F</td>\n",
       "      <td>1908</td>\n",
       "      <td>1934</td>\n",
       "      <td>Of Human Bondage</td>\n",
       "      <td>1935.0</td>\n",
       "      <td>1989</td>\n",
       "      <td>1989.0</td>\n",
       "    </tr>\n",
       "    <tr>\n",
       "      <th>4</th>\n",
       "      <td>Betty White</td>\n",
       "      <td>F</td>\n",
       "      <td>1922</td>\n",
       "      <td>1952</td>\n",
       "      <td>Life with Elilzabeth</td>\n",
       "      <td>1976.0</td>\n",
       "      <td>2016</td>\n",
       "      <td>NaN</td>\n",
       "    </tr>\n",
       "  </tbody>\n",
       "</table>\n",
       "</div>"
      ],
      "text/plain": [
       "       Entertainer Gender (traditional)  Birth Year  \\\n",
       "0            Adele                    F        1988   \n",
       "1   Angelina Jolie                    F        1975   \n",
       "2  Aretha Franklin                    F        1942   \n",
       "3      Bette Davis                    F        1908   \n",
       "4      Betty White                    F        1922   \n",
       "\n",
       "   Year of Breakthrough/#1 Hit/Award Nomination  \\\n",
       "0                                          2008   \n",
       "1                                          1999   \n",
       "2                                          1967   \n",
       "3                                          1934   \n",
       "4                                          1952   \n",
       "\n",
       "                          Breakthrough Name  Year of First Oscar/Grammy/Emmy  \\\n",
       "0                                        19                           2009.0   \n",
       "1                         Girl, Interrupted                           1999.0   \n",
       "2  I Never Loved a Man (The Way I Love You)                           1968.0   \n",
       "3                          Of Human Bondage                           1935.0   \n",
       "4                      Life with Elilzabeth                           1976.0   \n",
       "\n",
       "   Year of Last Major Work (arguable)  Year of Death  \n",
       "0                                2016            NaN  \n",
       "1                                2016            NaN  \n",
       "2                                2014            NaN  \n",
       "3                                1989         1989.0  \n",
       "4                                2016            NaN  "
      ]
     },
     "execution_count": 34,
     "metadata": {},
     "output_type": "execute_result"
    }
   ],
   "source": [
    "pd.head()"
   ]
  },
  {
   "cell_type": "code",
   "execution_count": 35,
   "id": "8216a493",
   "metadata": {},
   "outputs": [
    {
     "data": {
      "text/plain": [
       "1977.0    4\n",
       "2016.0    4\n",
       "2003.0    3\n",
       "1990.0    2\n",
       "2013.0    1\n",
       "Name: Year of Death, dtype: int64"
      ]
     },
     "execution_count": 35,
     "metadata": {},
     "output_type": "execute_result"
    }
   ],
   "source": [
    "pd['Year of Death'].value_counts().head()"
   ]
  },
  {
   "cell_type": "code",
   "execution_count": 36,
   "id": "9c93fe0e",
   "metadata": {},
   "outputs": [
    {
     "data": {
      "text/plain": [
       "array([  nan, 1989., 1977., 2003., 1942., 2016., 1986., 1965., 1960.,\n",
       "       1974., 1998., 1990., 1957., 1955., 1997., 1980., 1979., 2005.,\n",
       "       1971., 2004., 2008., 2013.])"
      ]
     },
     "execution_count": 36,
     "metadata": {},
     "output_type": "execute_result"
    }
   ],
   "source": [
    "pd['Year of Death'].unique()"
   ]
  },
  {
   "cell_type": "code",
   "execution_count": 37,
   "id": "b028d91b",
   "metadata": {},
   "outputs": [
    {
     "data": {
      "text/plain": [
       "<AxesSubplot:xlabel='Year of Death', ylabel='count'>"
      ]
     },
     "execution_count": 37,
     "metadata": {},
     "output_type": "execute_result"
    },
    {
     "data": {
      "image/png": "[encoded data removed]",
      "text/plain": [
       "<Figure size 1440x720 with 1 Axes>"
      ]
     },
     "metadata": {
      "needs_background": "light"
     },
     "output_type": "display_data"
    }
   ],
   "source": [
    "plt.figure(figsize = (20 , 10))\n",
    "sns.set_style('whitegrid')\n",
    "sns.countplot(x='Year of Death',hue='Gender (traditional)',data=pd,palette='plasma_r')"
   ]
  },
  {
   "cell_type": "code",
   "execution_count": null,
   "id": "22a7ea22",
   "metadata": {},
   "outputs": [],
   "source": []
  },
  {
   "cell_type": "code",
   "execution_count": null,
   "id": "1425112e",
   "metadata": {},
   "outputs": [],
   "source": []
  },
  {
   "cell_type": "code",
   "execution_count": null,
   "id": "7c6e5373",
   "metadata": {},
   "outputs": [],
   "source": []
  },
  {
   "cell_type": "markdown",
   "id": "58c13cdd",
   "metadata": {},
   "source": [
    "\n",
    "\n",
    "How do sales vary on a monthly basis? Are there any noticeable seasonal patterns?\n",
    "\n",
    "Are there any specific months or quarters where sales consistently spike or decline?\n",
    "\n",
    "How have sales evolved over the years? Is there a noticeable growth or decline trend?\n",
    "\n",
    "What are the top-selling products/categories over the entire period, and how has their sales\n",
    "performance changed over time?\n",
    "\n",
    "Are there any geographical patterns in sales? Do sales vary significantly across different regions or countries?\n",
    "\n",
    "What is the average order value (AOV) over the entire period, and how does it fluctuate over time?\n",
    "\n",
    "Are there any correlations between sales performance and external factors such as marketing campaigns, economic indicators, or product launches?\n",
    "\n",
    "How do sales trends differ between different customer segments (e.g., new customers vs. returning customers)?\n",
    "\n",
    "What is the customer retention rate over time, and how does it impact overall sales performance?\n",
    "\n",
    "These questions should help you delve deeper into understanding the dynamics of sales trends within the dataset and identify key insights that can inform strategic decision-making."
   ]
  },
  {
   "cell_type": "code",
   "execution_count": null,
   "id": "c87b3680",
   "metadata": {},
   "outputs": [],
   "source": [
    "#What is the overall trend in sales over the entire period covered by the dataset?\n"
   ]
  }
 ],
 "metadata": {
  "kernelspec": {
   "display_name": "Python 3",
   "language": "python",
   "name": "python3"
  },
  "language_info": {
   "codemirror_mode": {
    "name": "ipython",
    "version": 3
   },
   "file_extension": ".py",
   "mimetype": "text/x-python",
   "name": "python",
   "nbconvert_exporter": "python",
   "pygments_lexer": "ipython3",
   "version": "3.8.8"
  }
 },
 "nbformat": 4,
 "nbformat_minor": 5
}
